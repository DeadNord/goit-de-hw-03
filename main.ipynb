{
 "cells": [
  {
   "cell_type": "markdown",
   "metadata": {},
   "source": [
    "# Этап 1: Импорт необходимых библиотек и создание SparkSession\n"
   ]
  },
  {
   "cell_type": "code",
   "execution_count": 2,
   "metadata": {},
   "outputs": [
    {
     "name": "stderr",
     "output_type": "stream",
     "text": [
      "24/11/14 19:07:16 WARN Utils: Your hostname, nord-laptop resolves to a loopback address: 127.0.1.1; using 192.168.50.104 instead (on interface wlp0s20f3)\n",
      "24/11/14 19:07:16 WARN Utils: Set SPARK_LOCAL_IP if you need to bind to another address\n",
      "Setting default log level to \"WARN\".\n",
      "To adjust logging level use sc.setLogLevel(newLevel). For SparkR, use setLogLevel(newLevel).\n",
      "24/11/14 19:07:18 WARN NativeCodeLoader: Unable to load native-hadoop library for your platform... using builtin-java classes where applicable\n"
     ]
    }
   ],
   "source": [
    "from pyspark.sql import SparkSession\n",
    "from pyspark.sql.functions import col, sum as spark_sum, round as spark_round\n",
    "\n",
    "# Create a SparkSession\n",
    "spark = SparkSession.builder.appName(\"DataAnalysis\").getOrCreate()"
   ]
  },
  {
   "cell_type": "markdown",
   "metadata": {},
   "source": [
    "# Этап 2: Определение класса для обработки данных"
   ]
  },
  {
   "cell_type": "code",
   "execution_count": 3,
   "metadata": {},
   "outputs": [],
   "source": [
    "# Этап 2: Определение класса для обработки данных\n",
    "class DataProcessor:\n",
    "    def __init__(self):\n",
    "        # Инициализация DataFrame'ов\n",
    "        self.users_df = None\n",
    "        self.purchases_df = None\n",
    "        self.products_df = None\n",
    "\n",
    "    def load_data(self, users_path, purchases_path, products_path):\n",
    "        # Загрузка CSV-файлов в DataFrame'ы\n",
    "        self.users_df = spark.read.csv(users_path, header=True, inferSchema=True)\n",
    "        self.purchases_df = spark.read.csv(purchases_path, header=True, inferSchema=True)\n",
    "        self.products_df = spark.read.csv(products_path, header=True, inferSchema=True)\n",
    "\n",
    "    def clean_data(self):\n",
    "        # Удаление строк с пропущенными значениями\n",
    "        self.users_df = self.users_df.dropna()\n",
    "        self.purchases_df = self.purchases_df.dropna()\n",
    "        self.products_df = self.products_df.dropna()\n",
    "\n",
    "    def total_purchases_by_category(self):\n",
    "        # Вычисление общей суммы покупок по категориям продуктов\n",
    "        joined_df = self.purchases_df.join(self.products_df, 'product_id')\n",
    "        total_purchases = joined_df.groupBy('category') \\\n",
    "            .agg(spark_sum(col('quantity') * col('price')).alias('total_sales'))\n",
    "        return total_purchases\n",
    "\n",
    "    def purchases_by_category_age_group(self):\n",
    "        # Вычисление суммы покупок по категориям для возрастной группы 18-25\n",
    "        users_age_group = self.users_df.filter((col('age') >= 18) & (col('age') <= 25))\n",
    "        purchases_with_users = self.purchases_df.join(users_age_group, 'user_id')\n",
    "        joined_df = purchases_with_users.join(self.products_df, 'product_id')\n",
    "        total_purchases = joined_df.groupBy('category') \\\n",
    "            .agg(spark_sum(col('quantity') * col('price')).alias('total_sales'))\n",
    "        return total_purchases\n",
    "\n",
    "    def percentage_purchases_by_category_age_group(self):\n",
    "        # Вычисление процента покупок по категориям для возрастной группы 18-25\n",
    "        total_purchases_df = self.purchases_by_category_age_group()\n",
    "        total_sales = total_purchases_df.agg(spark_sum('total_sales').alias('total_sales')).collect()[0]['total_sales']\n",
    "        percentage_df = total_purchases_df.withColumn('percentage', spark_round((col('total_sales') / total_sales) * 100, 2))\n",
    "        return percentage_df\n",
    "\n",
    "    def top_three_categories(self):\n",
    "        # Выбор 3 категорий с наибольшим процентом расходов среди потребителей в возрасте от 18 до 25 лет\n",
    "        percentage_df = self.percentage_purchases_by_category_age_group()\n",
    "        top_three = percentage_df.orderBy(col('percentage').desc()).limit(3)\n",
    "        return top_three"
   ]
  },
  {
   "cell_type": "markdown",
   "metadata": {},
   "source": [
    "# Этап 3: Создание экземпляра класса и загрузка данных"
   ]
  },
  {
   "cell_type": "code",
   "execution_count": 4,
   "metadata": {},
   "outputs": [
    {
     "name": "stderr",
     "output_type": "stream",
     "text": [
      "                                                                                \r"
     ]
    }
   ],
   "source": [
    "processor = DataProcessor()\n",
    "\n",
    "users_csv_path = 'db/users.csv'\n",
    "purchases_csv_path = 'db/purchases.csv'\n",
    "products_csv_path = 'db/products.csv'\n",
    "\n",
    "# Load data\n",
    "processor.load_data(users_csv_path, purchases_csv_path, products_csv_path)"
   ]
  },
  {
   "cell_type": "markdown",
   "metadata": {},
   "source": [
    "# Этап 4: Очистка данных"
   ]
  },
  {
   "cell_type": "code",
   "execution_count": 5,
   "metadata": {},
   "outputs": [],
   "source": [
    "processor.clean_data()"
   ]
  },
  {
   "cell_type": "markdown",
   "metadata": {},
   "source": [
    "# Этап 5: Вычисление общей суммы покупок по категориям продуктов"
   ]
  },
  {
   "cell_type": "code",
   "execution_count": 6,
   "metadata": {},
   "outputs": [
    {
     "name": "stderr",
     "output_type": "stream",
     "text": [
      "[Stage 7:>                                                          (0 + 1) / 1]\r"
     ]
    },
    {
     "name": "stdout",
     "output_type": "stream",
     "text": [
      "+-----------+------------------+\n",
      "|   category|       total_sales|\n",
      "+-----------+------------------+\n",
      "|       Home|1523.4999999999998|\n",
      "|     Sports|1802.4999999999998|\n",
      "|Electronics|1174.7999999999997|\n",
      "|   Clothing|             790.3|\n",
      "|     Beauty| 459.8999999999999|\n",
      "+-----------+------------------+\n",
      "\n"
     ]
    },
    {
     "name": "stderr",
     "output_type": "stream",
     "text": [
      "                                                                                \r"
     ]
    }
   ],
   "source": [
    "total_purchases = processor.total_purchases_by_category()\n",
    "total_purchases.show()"
   ]
  },
  {
   "cell_type": "markdown",
   "metadata": {},
   "source": [
    "# Этап 6: Вычисление суммы покупок по категориям для возрастной группы 18-25"
   ]
  },
  {
   "cell_type": "code",
   "execution_count": 7,
   "metadata": {},
   "outputs": [
    {
     "name": "stdout",
     "output_type": "stream",
     "text": [
      "+-----------+------------------+\n",
      "|   category|       total_sales|\n",
      "+-----------+------------------+\n",
      "|       Home|             361.1|\n",
      "|     Sports|310.49999999999994|\n",
      "|Electronics|             249.6|\n",
      "|   Clothing|             245.0|\n",
      "|     Beauty|41.400000000000006|\n",
      "+-----------+------------------+\n",
      "\n"
     ]
    }
   ],
   "source": [
    "age_group_purchases = processor.purchases_by_category_age_group()\n",
    "age_group_purchases.show()"
   ]
  },
  {
   "cell_type": "markdown",
   "metadata": {},
   "source": [
    "# Этап 7: Вычисление процента покупок по категориям для возрастной группы 18-25"
   ]
  },
  {
   "cell_type": "code",
   "execution_count": 8,
   "metadata": {},
   "outputs": [
    {
     "name": "stdout",
     "output_type": "stream",
     "text": [
      "+-----------+------------------+----------+\n",
      "|   category|       total_sales|percentage|\n",
      "+-----------+------------------+----------+\n",
      "|       Home|             361.1|      29.9|\n",
      "|     Sports|310.49999999999994|     25.71|\n",
      "|Electronics|             249.6|     20.67|\n",
      "|   Clothing|             245.0|     20.29|\n",
      "|     Beauty|41.400000000000006|      3.43|\n",
      "+-----------+------------------+----------+\n",
      "\n"
     ]
    }
   ],
   "source": [
    "percentage_purchases = processor.percentage_purchases_by_category_age_group()\n",
    "percentage_purchases.show()"
   ]
  },
  {
   "cell_type": "markdown",
   "metadata": {},
   "source": [
    "# Этап 8: Выбор 3 категорий с наибольшим процентом расходов среди потребителей в возрасте от 18 до 25 лет"
   ]
  },
  {
   "cell_type": "code",
   "execution_count": 9,
   "metadata": {},
   "outputs": [
    {
     "name": "stdout",
     "output_type": "stream",
     "text": [
      "+-----------+------------------+----------+\n",
      "|   category|       total_sales|percentage|\n",
      "+-----------+------------------+----------+\n",
      "|       Home|             361.1|      29.9|\n",
      "|     Sports|310.49999999999994|     25.71|\n",
      "|Electronics|             249.6|     20.67|\n",
      "+-----------+------------------+----------+\n",
      "\n"
     ]
    }
   ],
   "source": [
    "top_three_categories = processor.top_three_categories()\n",
    "top_three_categories.show()"
   ]
  },
  {
   "cell_type": "code",
   "execution_count": 10,
   "metadata": {},
   "outputs": [],
   "source": [
    "# Close the SparkSession\n",
    "spark.stop()"
   ]
  }
 ],
 "metadata": {
  "kernelspec": {
   "display_name": "Python 3",
   "language": "python",
   "name": "python3"
  },
  "language_info": {
   "codemirror_mode": {
    "name": "ipython",
    "version": 3
   },
   "file_extension": ".py",
   "mimetype": "text/x-python",
   "name": "python",
   "nbconvert_exporter": "python",
   "pygments_lexer": "ipython3",
   "version": "3.12.3"
  }
 },
 "nbformat": 4,
 "nbformat_minor": 2
}
